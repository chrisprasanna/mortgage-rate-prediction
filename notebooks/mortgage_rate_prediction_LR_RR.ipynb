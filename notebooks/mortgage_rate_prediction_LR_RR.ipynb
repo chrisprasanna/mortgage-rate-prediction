{
 "cells": [
  {
   "cell_type": "markdown",
   "id": "0ba3d2df",
   "metadata": {},
   "source": [
    "# Implement Bayesian Ridge Regression\n",
    "Below is a Python implementation that mimics the Bayesian Ridge Regression workflow used by PyCaret, using libraries like pandas, scikit-learn, and matplotlib for preprocessing, training, testing, and visualization."
   ]
  },
  {
   "cell_type": "code",
   "execution_count": 10,
   "id": "f6e9faef",
   "metadata": {},
   "outputs": [],
   "source": [
    "import pandas as pd\n",
    "import numpy as np\n",
    "from sklearn.model_selection import train_test_split, cross_val_score\n",
    "from sklearn.preprocessing import StandardScaler\n",
    "from sklearn.linear_model import BayesianRidge, LinearRegression\n",
    "from sklearn.metrics import mean_squared_error, mean_absolute_error, r2_score\n",
    "import matplotlib.pyplot as plt\n",
    "import seaborn as sns\n",
    "import joblib\n",
    "\n",
    "from sklearn.pipeline import Pipeline\n",
    "from sklearn.model_selection import KFold, cross_val_score"
   ]
  },
  {
   "cell_type": "code",
   "execution_count": 11,
   "id": "42f4823c",
   "metadata": {},
   "outputs": [],
   "source": [
    "# Load and preprocess data\n",
    "def load_and_preprocess_data(source: str, target_col: str) -> pd.DataFrame:\n",
    "    df = pd.read_csv(source, parse_dates=['Date'])\n",
    "    df.rename(columns={'Date': 'date'}, inplace=True)\n",
    "    df = df.sort_values('date')\n",
    "    \n",
    "    # Drop target variable NaN values\n",
    "    df.dropna(subset=[target_col], inplace=True)\n",
    "\n",
    "    # Drop mortgage rate column (if using diff as target)\n",
    "    if target_col == 'MORTGAGE30US_diff':\n",
    "        df.drop(columns=['MORTGAGE30US'], inplace=True, errors='ignore')\n",
    "    elif target_col == 'MORTGAGE30US':\n",
    "        df.drop(columns=['MORTGAGE30US_diff'], inplace=True, errors='ignore')\n",
    "    \n",
    "    return df\n",
    "\n",
    "# Feature engineering\n",
    "def create_features(df: pd.DataFrame, target_col: str) -> pd.DataFrame:\n",
    "    df['year'] = df['date'].dt.year\n",
    "    df['month'] = df['date'].dt.month\n",
    "    df['weekofyear'] = df['date'].dt.isocalendar().week\n",
    "    df['rolling_mean_3'] = df[target_col].rolling(window=3).mean()\n",
    "    df['rolling_std_3'] = df[target_col].rolling(window=3).std()\n",
    "\n",
    "    # drop date column\n",
    "    df.drop(columns=['date'], inplace=True)\n",
    "\n",
    "    # Convert everything to float32\n",
    "    for col in df.columns:\n",
    "        if df[col].dtype == 'object':\n",
    "            df[col] = df[col].astype('category')\n",
    "        else:\n",
    "            df[col] = df[col].astype('float32')\n",
    "    return df"
   ]
  },
  {
   "cell_type": "code",
   "execution_count": 12,
   "id": "ab1b8c81",
   "metadata": {},
   "outputs": [],
   "source": [
    "# Create a pipeline for preprocessing and modeling\n",
    "def create_pipeline(model):\n",
    "    pipeline = Pipeline([\n",
    "        ('scaler', StandardScaler()),\n",
    "        ('model', model)\n",
    "    ])\n",
    "    return pipeline"
   ]
  },
  {
   "cell_type": "code",
   "execution_count": 13,
   "id": "0f7a1438",
   "metadata": {},
   "outputs": [],
   "source": [
    "# Train and evaluate models with K-Fold CV\n",
    "def train_and_evaluate_with_kfold(df: pd.DataFrame, target_col: str, n_splits: int = 5):\n",
    "    # Split data into features and target\n",
    "    X = df.drop(columns=[target_col])\n",
    "    y = df[target_col]\n",
    "\n",
    "    # Define models\n",
    "    bayesian_model = create_pipeline(BayesianRidge())\n",
    "    linear_model = create_pipeline(LinearRegression())\n",
    "\n",
    "    models = {\n",
    "        \"Bayesian Ridge Regression\": bayesian_model,\n",
    "        \"Linear Regression\": linear_model\n",
    "    }\n",
    "\n",
    "    # Perform K-Fold Cross-Validation\n",
    "    kf = KFold(n_splits=n_splits, shuffle=True, random_state=42)\n",
    "    results = {}\n",
    "\n",
    "    for model_name, model in models.items():\n",
    "        cv_scores = cross_val_score(model, X, y, cv=kf, scoring='neg_mean_squared_error')\n",
    "        rmse_scores = np.sqrt(-cv_scores)\n",
    "        results[model_name] = {\n",
    "            \"Mean RMSE\": rmse_scores.mean(),\n",
    "            \"Std RMSE\": rmse_scores.std()\n",
    "        }\n",
    "        print(f\"{model_name} - Mean RMSE: {rmse_scores.mean():.4f}, Std RMSE: {rmse_scores.std():.4f}\")\n",
    "\n",
    "    # Train final models on the full dataset\n",
    "    for model_name, model in models.items():\n",
    "        model.fit(X, y)\n",
    "        joblib.dump(model, f'../models/{model_name.lower().replace(\" \", \"_\")}_pipeline.pkl')\n",
    "\n",
    "    return models, results"
   ]
  },
  {
   "cell_type": "code",
   "execution_count": 14,
   "id": "387401fd",
   "metadata": {},
   "outputs": [
    {
     "name": "stdout",
     "output_type": "stream",
     "text": [
      "Bayesian Ridge Regression - Mean RMSE: 0.0883, Std RMSE: 0.0338\n",
      "Linear Regression - Mean RMSE: 0.0892, Std RMSE: 0.0363\n"
     ]
    }
   ],
   "source": [
    "target_col = 'MORTGAGE30US_diff'\n",
    "source = '../data/full_mortgage_dataset.csv'\n",
    "\n",
    "# Load and preprocess data\n",
    "df = load_and_preprocess_data(source, target_col)\n",
    "df = create_features(df, target_col)\n",
    "df.fillna(0, inplace=True)  # Fill NaN values created by rolling features\n",
    "\n",
    "# Train and evaluate models\n",
    "models, results = train_and_evaluate_with_kfold(df, target_col, n_splits=5)"
   ]
  }
 ],
 "metadata": {
  "kernelspec": {
   "display_name": "mortgage",
   "language": "python",
   "name": "python3"
  },
  "language_info": {
   "codemirror_mode": {
    "name": "ipython",
    "version": 3
   },
   "file_extension": ".py",
   "mimetype": "text/x-python",
   "name": "python",
   "nbconvert_exporter": "python",
   "pygments_lexer": "ipython3",
   "version": "3.9.21"
  }
 },
 "nbformat": 4,
 "nbformat_minor": 5
}
